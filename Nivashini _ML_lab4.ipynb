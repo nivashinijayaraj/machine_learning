{
 "cells": [
  {
   "cell_type": "code",
   "execution_count": 1,
   "metadata": {},
   "outputs": [
    {
     "name": "stdout",
     "output_type": "stream",
     "text": [
      "Head:\n",
      "   BldgType CentralAir  SalePrice\n",
      "0     1Fam          Y     215000\n",
      "1     1Fam          Y     105000\n",
      "2     1Fam          Y     172000\n",
      "3     1Fam          Y     244000\n",
      "4     1Fam          Y     189900\n",
      "\n",
      "Shape: (2930, 3)\n",
      "\n",
      "Columns: Index(['BldgType', 'CentralAir', 'SalePrice'], dtype='object')\n",
      "\n",
      "Data Types:\n",
      " BldgType      object\n",
      "CentralAir    object\n",
      "SalePrice      int64\n",
      "dtype: object\n",
      "<class 'pandas.core.frame.DataFrame'>\n",
      "RangeIndex: 2930 entries, 0 to 2929\n",
      "Data columns (total 3 columns):\n",
      "BldgType      2930 non-null object\n",
      "CentralAir    2930 non-null object\n",
      "SalePrice     2930 non-null int64\n",
      "dtypes: int64(1), object(2)\n",
      "memory usage: 68.8+ KB\n",
      "\n",
      "Info:\n",
      " None\n",
      "\n",
      "Value Counts:\n",
      " 135000    34\n",
      "140000    33\n",
      "130000    29\n",
      "155000    28\n",
      "145000    26\n",
      "160000    23\n",
      "110000    21\n",
      "185000    21\n",
      "115000    20\n",
      "170000    20\n",
      "120000    20\n",
      "127000    20\n",
      "190000    19\n",
      "200000    19\n",
      "125000    19\n",
      "150000    18\n",
      "165000    17\n",
      "128000    17\n",
      "143000    17\n",
      "180000    17\n",
      "139000    17\n",
      "250000    16\n",
      "144000    16\n",
      "147000    15\n",
      "148000    15\n",
      "119000    15\n",
      "215000    15\n",
      "137000    15\n",
      "100000    15\n",
      "132000    14\n",
      "          ..\n",
      "215200     1\n",
      "159895     1\n",
      "202900     1\n",
      "213133     1\n",
      "194700     1\n",
      "405749     1\n",
      "112900     1\n",
      "203160     1\n",
      "199000     1\n",
      "217300     1\n",
      "39300      1\n",
      "129400     1\n",
      "303477     1\n",
      "326000     1\n",
      "176485     1\n",
      "235876     1\n",
      "500067     1\n",
      "227680     1\n",
      "293200     1\n",
      "125200     1\n",
      "186700     1\n",
      "144750     1\n",
      "145400     1\n",
      "264500     1\n",
      "260400     1\n",
      "256300     1\n",
      "274725     1\n",
      "332200     1\n",
      "57625      1\n",
      "169985     1\n",
      "Name: SalePrice, Length: 1032, dtype: int64\n"
     ]
    }
   ],
   "source": [
    "import pandas as pd\n",
    "\n",
    "# Load the dataset\n",
    "data = pd.read_csv(\"ames_house.csv\")\n",
    "\n",
    "# Print dataset properties\n",
    "print(\"Head:\\n\", data.head())\n",
    "print(\"\\nShape:\", data.shape)\n",
    "print(\"\\nColumns:\", data.columns)\n",
    "print(\"\\nData Types:\\n\", data.dtypes)\n",
    "print(\"\\nInfo:\\n\", data.info())\n",
    "print(\"\\nValue Counts:\\n\", data[\"SalePrice\"].value_counts())\n"
   ]
  },
  {
   "cell_type": "code",
   "execution_count": 2,
   "metadata": {},
   "outputs": [
    {
     "name": "stdout",
     "output_type": "stream",
     "text": [
      "\n",
      "MSE: 1.7203551162685396e-22\n"
     ]
    }
   ],
   "source": [
    "#step2\n",
    "from sklearn.model_selection import train_test_split\n",
    "from sklearn.linear_model import LinearRegression\n",
    "from sklearn.metrics import mean_squared_error\n",
    "\n",
    "# Split into X (features) and y (target)\n",
    "X = data.drop([\"BldgType\", \"CentralAir\"], axis=1)\n",
    "y = data[\"SalePrice\"]\n",
    "\n",
    "# Split the dataset into training and testing sets\n",
    "X_train, X_test, y_train, y_test = train_test_split(X, y, test_size=0.25, random_state=42)\n",
    "\n",
    "# Fit a Linear Regression model and make predictions\n",
    "model = LinearRegression()\n",
    "model.fit(X_train, y_train)\n",
    "y_pred = model.predict(X_test)\n",
    "\n",
    "# Compute Mean Squared Error\n",
    "mse = mean_squared_error(y_test, y_pred)\n",
    "print(\"\\nMSE:\", mse)\n"
   ]
  },
  {
   "cell_type": "code",
   "execution_count": 4,
   "metadata": {},
   "outputs": [
    {
     "data": {
      "image/png": "[encoded data removed]",
      "text/plain": [
       "<Figure size 432x288 with 1 Axes>"
      ]
     },
     "metadata": {
      "needs_background": "light"
     },
     "output_type": "display_data"
    }
   ],
   "source": [
    "#step 3\n",
    "import matplotlib.pyplot as plt\n",
    "\n",
    "# Create a scatter plot\n",
    "plt.scatter(y_test, y_pred)\n",
    "plt.xlabel(\"Actual Sale Price\")\n",
    "plt.ylabel(\"Predicted Sale Price\")\n",
    "plt.title(\"Actual vs Predicted Sale Price\")\n",
    "plt.show()\n"
   ]
  },
  {
   "cell_type": "code",
   "execution_count": 5,
   "metadata": {},
   "outputs": [],
   "source": [
    "#step4\n",
    "# Perform one-hot encoding on categorical columns\n",
    "data_encoded = pd.get_dummies(data, columns=[\"BldgType\", \"CentralAir\"])\n",
    "\n",
    "# Proceed with the rest of your analysis based on the modified 'data_encoded'\n",
    "# Remember to redefine X and y based on the updated dataset if needed.\n"
   ]
  },
  {
   "cell_type": "code",
   "execution_count": 17,
   "metadata": {},
   "outputs": [
    {
     "name": "stdout",
     "output_type": "stream",
     "text": [
      "\n",
      "MSE with Categorical Features: 6703989148.047893\n"
     ]
    }
   ],
   "source": [
    "#step5\n",
    "# Assuming you've already done the one-hot encoding in the previous step\n",
    "# Split the updated dataset into features (X) and target (y)\n",
    "X_encoded = data_encoded.drop(\"SalePrice\", axis=1)\n",
    "y_encoded = data_encoded[\"SalePrice\"]\n",
    "\n",
    "# Split the encoded dataset into training and testing sets\n",
    "X_train_encoded, X_test_encoded, y_train_encoded, y_test_encoded = train_test_split(X_encoded, y_encoded, test_size=0.25, random_state=42)\n",
    "\n",
    "# Fit a Linear Regression model and make predictions\n",
    "model_encoded = LinearRegression()\n",
    "model_encoded.fit(X_train_encoded, y_train_encoded)\n",
    "y_pred_encoded = model_encoded.predict(X_test_encoded)\n",
    "\n",
    "# Compute Mean Squared Error\n",
    "mse_encoded = mean_squared_error(y_test_encoded, y_pred_encoded)\n",
    "print(\"\\nMSE with Categorical Features:\", mse_encoded)\n"
   ]
  },
  {
   "cell_type": "code",
   "execution_count": 15,
   "metadata": {},
   "outputs": [
    {
     "name": "stdout",
     "output_type": "stream",
     "text": [
      "\n",
      "MSE with Standard Scaling: 6703989148.047893\n"
     ]
    },
    {
     "name": "stderr",
     "output_type": "stream",
     "text": [
      "C:\\ProgramData\\Anaconda3\\lib\\site-packages\\sklearn\\preprocessing\\data.py:625: DataConversionWarning: Data with input dtype uint8 were all converted to float64 by StandardScaler.\n",
      "  return self.partial_fit(X, y)\n",
      "C:\\ProgramData\\Anaconda3\\lib\\site-packages\\sklearn\\base.py:462: DataConversionWarning: Data with input dtype uint8 were all converted to float64 by StandardScaler.\n",
      "  return self.fit(X, **fit_params).transform(X)\n",
      "C:\\ProgramData\\Anaconda3\\lib\\site-packages\\ipykernel_launcher.py:7: DataConversionWarning: Data with input dtype uint8 were all converted to float64 by StandardScaler.\n",
      "  import sys\n"
     ]
    }
   ],
   "source": [
    "#step6\n",
    "from sklearn.preprocessing import StandardScaler\n",
    "\n",
    "# Standardize the features\n",
    "scaler = StandardScaler()\n",
    "X_train_scaled = scaler.fit_transform(X_train_encoded)\n",
    "X_test_scaled = scaler.transform(X_test_encoded)\n",
    "\n",
    "# Fit a Linear Regression model on scaled data\n",
    "model_scaled = LinearRegression()\n",
    "model_scaled.fit(X_train_scaled, y_train_encoded)\n",
    "y_pred_scaled = model_scaled.predict(X_test_scaled)\n",
    "\n",
    "# Compute Mean Squared Error\n",
    "mse_scaled = mean_squared_error(y_test_encoded, y_pred_scaled)\n",
    "print(\"\\nMSE with Standard Scaling:\", mse_scaled)\n"
   ]
  },
  {
   "cell_type": "code",
   "execution_count": 8,
   "metadata": {},
   "outputs": [
    {
     "name": "stdout",
     "output_type": "stream",
     "text": [
      "\n",
      "MSE with MinMax Scaling: 6703989148.047893\n"
     ]
    },
    {
     "name": "stderr",
     "output_type": "stream",
     "text": [
      "C:\\ProgramData\\Anaconda3\\lib\\site-packages\\sklearn\\preprocessing\\data.py:323: DataConversionWarning: Data with input dtype uint8 were all converted to float64 by MinMaxScaler.\n",
      "  return self.partial_fit(X, y)\n"
     ]
    }
   ],
   "source": [
    "#step7\n",
    "from sklearn.preprocessing import MinMaxScaler\n",
    "\n",
    "# Min-max scaling on the data\n",
    "minmax_scaler = MinMaxScaler()\n",
    "X_train_minmax = minmax_scaler.fit_transform(X_train_encoded)\n",
    "X_test_minmax = minmax_scaler.transform(X_test_encoded)\n",
    "\n",
    "# Fit a Linear Regression model on min-max scaled data\n",
    "model_minmax = LinearRegression()\n",
    "model_minmax.fit(X_train_minmax, y_train_encoded)\n",
    "y_pred_minmax = model_minmax.predict(X_test_minmax)\n",
    "\n",
    "# Compute Mean Squared Error\n",
    "mse_minmax = mean_squared_error(y_test_encoded, y_pred_minmax)\n",
    "print(\"\\nMSE with MinMax Scaling:\", mse_minmax)\n"
   ]
  },
  {
   "cell_type": "code",
   "execution_count": 9,
   "metadata": {},
   "outputs": [
    {
     "name": "stdout",
     "output_type": "stream",
     "text": [
      "\n",
      "MSE using SGD Regressor: 6692884540.37156\n"
     ]
    }
   ],
   "source": [
    "#step8\n",
    "from sklearn.linear_model import SGDRegressor\n",
    "\n",
    "# Use SGDRegressor on standardized data\n",
    "sgd_regressor = SGDRegressor(max_iter=1000, tol=1e-3)\n",
    "sgd_regressor.fit(X_train_scaled, y_train_encoded)\n",
    "y_pred_sgd = sgd_regressor.predict(X_test_scaled)\n",
    "\n",
    "# Compute Mean Squared Error\n",
    "mse_sgd = mean_squared_error(y_test_encoded, y_pred_sgd)\n",
    "print(\"\\nMSE using SGD Regressor:\", mse_sgd)\n"
   ]
  },
  {
   "cell_type": "code",
   "execution_count": 23,
   "metadata": {},
   "outputs": [
    {
     "name": "stdout",
     "output_type": "stream",
     "text": [
      "RMSE with OHE and Standard Scaling: 81877.89169273897\n",
      "RMSE with OHE and MinMax Scaling: 81877.89169273897\n",
      "RMSE of SGD Regressor with OHE and Standard Scaler: 81810.05158519068\n",
      "RMSE of RidgeCV with OHE and Standard Scaler: 81878.62449896659\n",
      "RMSE of LassoCV with OHE and Standard Scaler: 81894.14962113512\n"
     ]
    }
   ],
   "source": [
    "#step 9\n",
    "import numpy as np\n",
    "\n",
    "# Assuming you have already calculated the MSE values for each scenario\n",
    "\n",
    "\n",
    "\n",
    "# RMSE with OHE and Standard Scaling\n",
    "rmse_with_ohe_standard = np.sqrt(mse_scaled)\n",
    "print(\"RMSE with OHE and Standard Scaling:\", rmse_with_ohe_standard)\n",
    "\n",
    "# RMSE with OHE and MinMax Scaling\n",
    "rmse_with_ohe_minmax = np.sqrt(mse_minmax)\n",
    "print(\"RMSE with OHE and MinMax Scaling:\", rmse_with_ohe_minmax)\n",
    "\n",
    "# RMSE of SGD Regressor with OHE and Standard Scaler\n",
    "rmse_sgd = np.sqrt(mse_sgd)\n",
    "print(\"RMSE of SGD Regressor with OHE and Standard Scaler:\", rmse_sgd)\n",
    "\n",
    "# RMSE of RidgeCV with OHE and Standard Scaler\n",
    "rmse_ridge = np.sqrt(mse_ridge)\n",
    "print(\"RMSE of RidgeCV with OHE and Standard Scaler:\", rmse_ridge)\n",
    "\n",
    "# RMSE of LassoCV with OHE and Standard Scaler\n",
    "rmse_lasso = np.sqrt(mse_lasso)\n",
    "print(\"RMSE of LassoCV with OHE and Standard Scaler:\", rmse_lasso)\n"
   ]
  },
  {
   "cell_type": "code",
   "execution_count": null,
   "metadata": {},
   "outputs": [],
   "source": []
  }
 ],
 "metadata": {
  "kernelspec": {
   "display_name": "Python 3",
   "language": "python",
   "name": "python3"
  },
  "language_info": {
   "codemirror_mode": {
    "name": "ipython",
    "version": 3
   },
   "file_extension": ".py",
   "mimetype": "text/x-python",
   "name": "python",
   "nbconvert_exporter": "python",
   "pygments_lexer": "ipython3",
   "version": "3.7.1"
  }
 },
 "nbformat": 4,
 "nbformat_minor": 2
}
