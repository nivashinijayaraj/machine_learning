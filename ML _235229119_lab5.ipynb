{
 "cells": [
  {
   "cell_type": "raw",
   "metadata": {},
   "source": [
    "NAME: Nivashini\n",
    "ROLL NO: 235229119\n"
   ]
  },
  {
   "cell_type": "code",
   "execution_count": 2,
   "metadata": {},
   "outputs": [],
   "source": [
    "import pandas as pd\n",
    "\n",
    "# Read the data\n",
    "data = pd.read_csv('diabetes.csv')\n",
    "\n"
   ]
  },
  {
   "cell_type": "code",
   "execution_count": 3,
   "metadata": {},
   "outputs": [
    {
     "name": "stdout",
     "output_type": "stream",
     "text": [
      "   Pregnancies  Glucose  BloodPressure  SkinThickness  Insulin   BMI  \\\n",
      "0            6      148             72             35        0  33.6   \n",
      "1            1       85             66             29        0  26.6   \n",
      "2            8      183             64              0        0  23.3   \n",
      "3            1       89             66             23       94  28.1   \n",
      "4            0      137             40             35      168  43.1   \n",
      "\n",
      "   DiabetesPedigreeFunction  Age  Outcome  \n",
      "0                     0.627   50        1  \n",
      "1                     0.351   31        0  \n",
      "2                     0.672   32        1  \n",
      "3                     0.167   21        0  \n",
      "4                     2.288   33        1  \n"
     ]
    }
   ],
   "source": [
    "# Print properties\n",
    "print(data.head())  # Display the first few rows\n"
   ]
  },
  {
   "cell_type": "code",
   "execution_count": 4,
   "metadata": {},
   "outputs": [
    {
     "name": "stdout",
     "output_type": "stream",
     "text": [
      "(768, 9)\n"
     ]
    }
   ],
   "source": [
    "print(data.shape)   # Number of rows and columns\n"
   ]
  },
  {
   "cell_type": "code",
   "execution_count": 5,
   "metadata": {},
   "outputs": [
    {
     "name": "stdout",
     "output_type": "stream",
     "text": [
      "Index(['Pregnancies', 'Glucose', 'BloodPressure', 'SkinThickness', 'Insulin',\n",
      "       'BMI', 'DiabetesPedigreeFunction', 'Age', 'Outcome'],\n",
      "      dtype='object')\n"
     ]
    }
   ],
   "source": [
    "print(data.columns) # Column names\n"
   ]
  },
  {
   "cell_type": "code",
   "execution_count": 6,
   "metadata": {},
   "outputs": [
    {
     "name": "stdout",
     "output_type": "stream",
     "text": [
      "Pregnancies                   int64\n",
      "Glucose                       int64\n",
      "BloodPressure                 int64\n",
      "SkinThickness                 int64\n",
      "Insulin                       int64\n",
      "BMI                         float64\n",
      "DiabetesPedigreeFunction    float64\n",
      "Age                           int64\n",
      "Outcome                       int64\n",
      "dtype: object\n"
     ]
    }
   ],
   "source": [
    "print(data.dtypes)  # Data types of columns\n"
   ]
  },
  {
   "cell_type": "code",
   "execution_count": 7,
   "metadata": {},
   "outputs": [
    {
     "name": "stdout",
     "output_type": "stream",
     "text": [
      "<class 'pandas.core.frame.DataFrame'>\n",
      "RangeIndex: 768 entries, 0 to 767\n",
      "Data columns (total 9 columns):\n",
      "Pregnancies                 768 non-null int64\n",
      "Glucose                     768 non-null int64\n",
      "BloodPressure               768 non-null int64\n",
      "SkinThickness               768 non-null int64\n",
      "Insulin                     768 non-null int64\n",
      "BMI                         768 non-null float64\n",
      "DiabetesPedigreeFunction    768 non-null float64\n",
      "Age                         768 non-null int64\n",
      "Outcome                     768 non-null int64\n",
      "dtypes: float64(2), int64(7)\n",
      "memory usage: 54.1 KB\n",
      "None\n"
     ]
    }
   ],
   "source": [
    "print(data.info())  # Summary of the DataFrame\n"
   ]
  },
  {
   "cell_type": "code",
   "execution_count": 8,
   "metadata": {},
   "outputs": [
    {
     "name": "stdout",
     "output_type": "stream",
     "text": [
      "0    500\n",
      "1    268\n",
      "Name: Outcome, dtype: int64\n"
     ]
    }
   ],
   "source": [
    "print(data['Outcome'].value_counts())  # Count of each outcome class\n"
   ]
  },
  {
   "cell_type": "code",
   "execution_count": 9,
   "metadata": {},
   "outputs": [
    {
     "name": "stderr",
     "output_type": "stream",
     "text": [
      "C:\\ProgramData\\Anaconda3\\lib\\site-packages\\sklearn\\linear_model\\logistic.py:433: FutureWarning: Default solver will be changed to 'lbfgs' in 0.22. Specify a solver to silence this warning.\n",
      "  FutureWarning)\n"
     ]
    }
   ],
   "source": [
    "#Build Logistic Regression Model\n",
    "from sklearn.model_selection import train_test_split\n",
    "from sklearn.linear_model import LogisticRegression\n",
    "from sklearn.metrics import accuracy_score, precision_score, recall_score, roc_auc_score\n",
    "\n",
    "# Prepare X and y\n",
    "X = data.drop('Outcome', axis=1)\n",
    "y = data['Outcome']\n",
    "\n",
    "# Split dataset\n",
    "X_train, X_test, y_train, y_test = train_test_split(X, y, test_size=0.25, stratify=y)\n",
    "\n",
    "# Create and fit Logistic Regression model\n",
    "logistic_model = LogisticRegression()\n",
    "logistic_model.fit(X_train, y_train)\n",
    "\n",
    "# Predict on the test set\n",
    "y_pred = logistic_model.predict(X_test)\n"
   ]
  },
  {
   "cell_type": "code",
   "execution_count": 12,
   "metadata": {},
   "outputs": [
    {
     "name": "stdout",
     "output_type": "stream",
     "text": [
      "Will this person become diabetic? Prediction: [1]\n"
     ]
    }
   ],
   "source": [
    "# Predict on a New Sample\n",
    "new_person = [[6, 200, 90, 10, 25, 23.3, 0.672, 42]]\n",
    "prediction = logistic_model.predict(new_person)\n",
    "print(f\"Will this person become diabetic? Prediction: {prediction}\")\n"
   ]
  },
  {
   "cell_type": "code",
   "execution_count": 13,
   "metadata": {},
   "outputs": [
    {
     "name": "stdout",
     "output_type": "stream",
     "text": [
      "Accuracy: 0.7604166666666666, Precision: 0.6842105263157895, Recall: 0.582089552238806, AUC: 0.8176716417910447\n"
     ]
    }
   ],
   "source": [
    "#Compute Classification Metrics\n",
    "accuracy = accuracy_score(y_test, y_pred)\n",
    "precision = precision_score(y_test, y_pred)\n",
    "recall = recall_score(y_test, y_pred)\n",
    "auc = roc_auc_score(y_test, logistic_model.predict_proba(X_test)[:, 1])\n",
    "\n",
    "print(f\"Accuracy: {accuracy}, Precision: {precision}, Recall: {recall}, AUC: {auc}\")\n"
   ]
  },
  {
   "cell_type": "code",
   "execution_count": 14,
   "metadata": {},
   "outputs": [
    {
     "name": "stderr",
     "output_type": "stream",
     "text": [
      "C:\\ProgramData\\Anaconda3\\lib\\site-packages\\sklearn\\preprocessing\\data.py:323: DataConversionWarning: Data with input dtype int64, float64 were all converted to float64 by MinMaxScaler.\n",
      "  return self.partial_fit(X, y)\n",
      "C:\\ProgramData\\Anaconda3\\lib\\site-packages\\sklearn\\linear_model\\logistic.py:433: FutureWarning: Default solver will be changed to 'lbfgs' in 0.22. Specify a solver to silence this warning.\n",
      "  FutureWarning)\n"
     ]
    }
   ],
   "source": [
    "# Normalization using MinmaxScaler and Rebuilding Logistic Regression\n",
    "from sklearn.preprocessing import MinMaxScaler\n",
    "\n",
    "# Initialize the MinMaxScaler\n",
    "scaler = MinMaxScaler()\n",
    "\n",
    "# Fit and transform the scaler on X_train\n",
    "X_train_normalized = scaler.fit_transform(X_train)\n",
    "\n",
    "# Transform X_test using the same scaler\n",
    "X_test_normalized = scaler.transform(X_test)\n",
    "\n",
    "# Create a new Logistic Regression model\n",
    "logistic_model_normalized = LogisticRegression()\n",
    "\n",
    "# Fit the model on the normalized training set\n",
    "logistic_model_normalized.fit(X_train_normalized, y_train)\n",
    "\n",
    "# Predict on the normalized test set\n",
    "y_pred_normalized = logistic_model_normalized.predict(X_test_normalized)\n"
   ]
  },
  {
   "cell_type": "code",
   "execution_count": 15,
   "metadata": {},
   "outputs": [
    {
     "name": "stderr",
     "output_type": "stream",
     "text": [
      "C:\\ProgramData\\Anaconda3\\lib\\site-packages\\sklearn\\preprocessing\\data.py:625: DataConversionWarning: Data with input dtype int64, float64 were all converted to float64 by StandardScaler.\n",
      "  return self.partial_fit(X, y)\n",
      "C:\\ProgramData\\Anaconda3\\lib\\site-packages\\sklearn\\base.py:462: DataConversionWarning: Data with input dtype int64, float64 were all converted to float64 by StandardScaler.\n",
      "  return self.fit(X, **fit_params).transform(X)\n",
      "C:\\ProgramData\\Anaconda3\\lib\\site-packages\\ipykernel_launcher.py:11: DataConversionWarning: Data with input dtype int64, float64 were all converted to float64 by StandardScaler.\n",
      "  # This is added back by InteractiveShellApp.init_path()\n",
      "C:\\ProgramData\\Anaconda3\\lib\\site-packages\\sklearn\\linear_model\\logistic.py:433: FutureWarning: Default solver will be changed to 'lbfgs' in 0.22. Specify a solver to silence this warning.\n",
      "  FutureWarning)\n"
     ]
    }
   ],
   "source": [
    "#Normalization using StandardScaler and Rebuilding Logistic Regression\n",
    "from sklearn.preprocessing import StandardScaler\n",
    "\n",
    "# Initialize the StandardScaler\n",
    "scaler_standard = StandardScaler()\n",
    "\n",
    "# Fit and transform the StandardScaler on X_train\n",
    "X_train_standardized = scaler_standard.fit_transform(X_train)\n",
    "\n",
    "# Transform X_test using the same scaler\n",
    "X_test_standardized = scaler_standard.transform(X_test)\n",
    "\n",
    "# Create a new Logistic Regression model\n",
    "logistic_model_standardized = LogisticRegression()\n",
    "\n",
    "# Fit the model on the standardized training set\n",
    "logistic_model_standardized.fit(X_train_standardized, y_train)\n",
    "\n",
    "# Predict on the standardized test set\n",
    "y_pred_standardized = logistic_model_standardized.predict(X_test_standardized)\n"
   ]
  },
  {
   "cell_type": "code",
   "execution_count": 16,
   "metadata": {},
   "outputs": [
    {
     "data": {
      "text/plain": [
       "<Figure size 800x600 with 1 Axes>"
      ]
     },
     "metadata": {},
     "output_type": "display_data"
    }
   ],
   "source": [
    "# Plotting ROC Curve\n",
    "from sklearn.metrics import roc_curve\n",
    "import matplotlib.pyplot as plt\n",
    "\n",
    "# Get predicted probabilities for the positive class\n",
    "y_pred_prob = logistic_model.predict_proba(X_test)[:, 1]\n",
    "\n",
    "# Compute ROC curve values: fpr, tpr, thresholds\n",
    "fpr, tpr, thresholds = roc_curve(y_test, y_pred_prob)\n",
    "\n",
    "# Plot ROC curve\n",
    "plt.figure(figsize=(8, 6))\n",
    "plt.plot(fpr, tpr, label='Logistic Regression')\n",
    "plt.plot([0, 1], [0, 1], 'k--', label='Random Guessing')\n",
    "plt.xlabel('False Positive Rate')\n",
    "plt.ylabel('True Positive Rate')\n",
    "plt.title('ROC Curve')\n",
    "plt.legend()\n",
    "plt.grid(True)\n",
    "plt.show()\n"
   ]
  },
  {
   "cell_type": "code",
   "execution_count": 17,
   "metadata": {},
   "outputs": [
    {
     "name": "stdout",
     "output_type": "stream",
     "text": [
      "KNN Classifier Scores - Accuracy: 0.703125, Precision: 0.5862068965517241, Recall: 0.5074626865671642, AUC: 0.7391641791044776\n"
     ]
    }
   ],
   "source": [
    "# Comparison with KNN Classifier\n",
    "from sklearn.neighbors import KNeighborsClassifier\n",
    "\n",
    "# Create KNN classifier (using default parameters)\n",
    "knn_classifier = KNeighborsClassifier()\n",
    "\n",
    "# Fit the KNN classifier on MinMaxScaler scaled data\n",
    "knn_classifier.fit(X_train_normalized, y_train)\n",
    "\n",
    "# Predict on the normalized test set\n",
    "y_pred_knn = knn_classifier.predict(X_test_normalized)\n",
    "\n",
    "# Compute and print classification metric scores for KNN\n",
    "accuracy_knn = accuracy_score(y_test, y_pred_knn)\n",
    "precision_knn = precision_score(y_test, y_pred_knn)\n",
    "recall_knn = recall_score(y_test, y_pred_knn)\n",
    "auc_knn = roc_auc_score(y_test, knn_classifier.predict_proba(X_test_normalized)[:, 1])\n",
    "\n",
    "print(f\"KNN Classifier Scores - Accuracy: {accuracy_knn}, Precision: {precision_knn}, Recall: {recall_knn}, AUC: {auc_knn}\")\n"
   ]
  },
  {
   "cell_type": "code",
   "execution_count": 18,
   "metadata": {},
   "outputs": [
    {
     "data": {
      "image/png": "[encoded data removed]",
      "text/plain": [
       "<Figure size 576x432 with 1 Axes>"
      ]
     },
     "metadata": {
      "needs_background": "light"
     },
     "output_type": "display_data"
    }
   ],
   "source": [
    "#Updating ROC Curve\n",
    "# Get predicted probabilities for the positive class from KNN\n",
    "y_pred_prob_knn = knn_classifier.predict_proba(X_test_normalized)[:, 1]\n",
    "\n",
    "# Compute ROC curve values for KNN: fpr_knn, tpr_knn, thresholds_knn\n",
    "fpr_knn, tpr_knn, thresholds_knn = roc_curve(y_test, y_pred_prob_knn)\n",
    "\n",
    "# Plot ROC curve with KNN included\n",
    "plt.figure(figsize=(8, 6))\n",
    "plt.plot(fpr, tpr, label='Logistic Regression')\n",
    "plt.plot(fpr_knn, tpr_knn, label='KNN Classifier')\n",
    "plt.plot([0, 1], [0, 1], 'k--', label='Random Guessing')\n",
    "plt.xlabel('False Positive Rate')\n",
    "plt.ylabel('True Positive Rate')\n",
    "plt.title('ROC Curve with KNN')\n",
    "plt.legend()\n",
    "plt.grid(True)\n",
    "plt.show()\n"
   ]
  },
  {
   "cell_type": "code",
   "execution_count": 19,
   "metadata": {},
   "outputs": [
    {
     "name": "stdout",
     "output_type": "stream",
     "text": [
      "Logistic RegressionCV L1 Scores:\n",
      "Accuracy: 0.7604166666666666, Precision: 0.6779661016949152, Recall: 0.5970149253731343, AUC: 0.8260298507462687\n",
      "\n",
      "Logistic RegressionCV L2 Scores:\n",
      "Accuracy: 0.7552083333333334, Precision: 0.6666666666666666, Recall: 0.5970149253731343, AUC: 0.8235223880597015\n"
     ]
    }
   ],
   "source": [
    "from sklearn.linear_model import LogisticRegressionCV\n",
    "\n",
    "# Create Logistic RegressionCV models with L1 and L2 regularization\n",
    "logistic_cv_l1 = LogisticRegressionCV(Cs=10, cv=4, penalty='l1', solver='liblinear')\n",
    "logistic_cv_l2 = LogisticRegressionCV(Cs=10, cv=4, penalty='l2')\n",
    "\n",
    "# Fit the models on MinMaxScaler scaled data\n",
    "logistic_cv_l1.fit(X_train_normalized, y_train)\n",
    "logistic_cv_l2.fit(X_train_normalized, y_train)\n",
    "\n",
    "# Predict on the normalized test set for both models\n",
    "y_pred_cv_l1 = logistic_cv_l1.predict(X_test_normalized)\n",
    "y_pred_cv_l2 = logistic_cv_l2.predict(X_test_normalized)\n",
    "\n",
    "# Compute classification metric scores for both models\n",
    "accuracy_cv_l1 = accuracy_score(y_test, y_pred_cv_l1)\n",
    "precision_cv_l1 = precision_score(y_test, y_pred_cv_l1)\n",
    "recall_cv_l1 = recall_score(y_test, y_pred_cv_l1)\n",
    "auc_cv_l1 = roc_auc_score(y_test, logistic_cv_l1.predict_proba(X_test_normalized)[:, 1])\n",
    "\n",
    "accuracy_cv_l2 = accuracy_score(y_test, y_pred_cv_l2)\n",
    "precision_cv_l2 = precision_score(y_test, y_pred_cv_l2)\n",
    "recall_cv_l2 = recall_score(y_test, y_pred_cv_l2)\n",
    "auc_cv_l2 = roc_auc_score(y_test, logistic_cv_l2.predict_proba(X_test_normalized)[:, 1])\n",
    "\n",
    "print(\"Logistic RegressionCV L1 Scores:\")\n",
    "print(f\"Accuracy: {accuracy_cv_l1}, Precision: {precision_cv_l1}, Recall: {recall_cv_l1}, AUC: {auc_cv_l1}\")\n",
    "\n",
    "print(\"\\nLogistic RegressionCV L2 Scores:\")\n",
    "print(f\"Accuracy: {accuracy_cv_l2}, Precision: {precision_cv_l2}, Recall: {recall_cv_l2}, AUC: {auc_cv_l2}\")\n"
   ]
  },
  {
   "cell_type": "code",
   "execution_count": 20,
   "metadata": {},
   "outputs": [
    {
     "data": {
      "image/png": "[encoded data removed]",
      "text/plain": [
       "<Figure size 576x432 with 1 Axes>"
      ]
     },
     "metadata": {
      "needs_background": "light"
     },
     "output_type": "display_data"
    }
   ],
   "source": [
    "#\n",
    "# Get predicted probabilities for the positive class from Logistic RegressionCV models\n",
    "y_pred_prob_cv_l1 = logistic_cv_l1.predict_proba(X_test_normalized)[:, 1]\n",
    "y_pred_prob_cv_l2 = logistic_cv_l2.predict_proba(X_test_normalized)[:, 1]\n",
    "\n",
    "# Compute ROC curve values for Logistic RegressionCV models: fpr_cv_l1, tpr_cv_l1, fpr_cv_l2, tpr_cv_l2\n",
    "fpr_cv_l1, tpr_cv_l1, _ = roc_curve(y_test, y_pred_prob_cv_l1)\n",
    "fpr_cv_l2, tpr_cv_l2, _ = roc_curve(y_test, y_pred_prob_cv_l2)\n",
    "\n",
    "# Plot updated ROC curve\n",
    "plt.figure(figsize=(8, 6))\n",
    "plt.plot(fpr, tpr, label='Logistic Regression')\n",
    "plt.plot(fpr_knn, tpr_knn, label='KNN Classifier')\n",
    "plt.plot(fpr_cv_l1, tpr_cv_l1, label='Logistic RegressionCV L1')\n",
    "plt.plot(fpr_cv_l2, tpr_cv_l2, label='Logistic RegressionCV L2')\n",
    "plt.plot([0, 1], [0, 1], 'k--', label='Random Guessing')\n",
    "plt.xlabel('False Positive Rate')\n",
    "plt.ylabel('True Positive Rate')\n",
    "plt.title('Updated ROC Curve')\n",
    "plt.legend()\n",
    "plt.grid(True)\n",
    "plt.show()\n"
   ]
  },
  {
   "cell_type": "code",
   "execution_count": null,
   "metadata": {},
   "outputs": [],
   "source": []
  }
 ],
 "metadata": {
  "kernelspec": {
   "display_name": "Python 3",
   "language": "python",
   "name": "python3"
  },
  "language_info": {
   "codemirror_mode": {
    "name": "ipython",
    "version": 3
   },
   "file_extension": ".py",
   "mimetype": "text/x-python",
   "name": "python",
   "nbconvert_exporter": "python",
   "pygments_lexer": "ipython3",
   "version": "3.7.1"
  }
 },
 "nbformat": 4,
 "nbformat_minor": 2
}
