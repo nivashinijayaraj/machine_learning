{
 "cells": [
  {
   "cell_type": "raw",
   "id": "0f5fa8e8",
   "metadata": {},
   "source": [
    "NIVASHINI J\n",
    "235229119\n",
    "I M.SC DATA SCIENCE"
   ]
  },
  {
   "cell_type": "markdown",
   "id": "1277fc84",
   "metadata": {},
   "source": [
    "### Step 1: Understand Data\n"
   ]
  },
  {
   "cell_type": "code",
   "execution_count": 1,
   "id": "fe0830ee",
   "metadata": {
    "id": "fe0830ee"
   },
   "outputs": [],
   "source": [
    "import pandas as pd\n",
    "from sklearn.model_selection import train_test_split\n",
    "from sklearn.metrics import accuracy_score,classification_report\n",
    "from sklearn.ensemble import GradientBoostingClassifier,AdaBoostClassifier\n",
    "from sklearn.model_selection import GridSearchCV\n",
    "from sklearn.linear_model import LogisticRegressionCV\n",
    "from sklearn.ensemble import RandomForestClassifier, VotingClassifier\n",
    "from sklearn.tree import DecisionTreeClassifier"
   ]
  },
  {
   "cell_type": "code",
   "execution_count": 2,
   "id": "289bee4e",
   "metadata": {
    "id": "289bee4e"
   },
   "outputs": [],
   "source": [
    "df = pd.read_csv(\"Human_Activity_Data.csv\")"
   ]
  },
  {
   "cell_type": "code",
   "execution_count": 3,
   "id": "eab5722c",
   "metadata": {
    "colab": {
     "base_uri": "https://localhost:8080/",
     "height": 317
    },
    "id": "eab5722c",
    "outputId": "9619d2d3-7e71-430b-d4e9-1e3b48892063"
   },
   "outputs": [
    {
     "data": {
      "text/html": [
       "<div>\n",
       "<style scoped>\n",
       "    .dataframe tbody tr th:only-of-type {\n",
       "        vertical-align: middle;\n",
       "    }\n",
       "\n",
       "    .dataframe tbody tr th {\n",
       "        vertical-align: top;\n",
       "    }\n",
       "\n",
       "    .dataframe thead th {\n",
       "        text-align: right;\n",
       "    }\n",
       "</style>\n",
       "<table border=\"1\" class=\"dataframe\">\n",
       "  <thead>\n",
       "    <tr style=\"text-align: right;\">\n",
       "      <th></th>\n",
       "      <th>tBodyAcc-mean()-X</th>\n",
       "      <th>tBodyAcc-mean()-Y</th>\n",
       "      <th>tBodyAcc-mean()-Z</th>\n",
       "      <th>tBodyAcc-std()-X</th>\n",
       "      <th>tBodyAcc-std()-Y</th>\n",
       "      <th>tBodyAcc-std()-Z</th>\n",
       "      <th>tBodyAcc-mad()-X</th>\n",
       "      <th>tBodyAcc-mad()-Y</th>\n",
       "      <th>tBodyAcc-mad()-Z</th>\n",
       "      <th>tBodyAcc-max()-X</th>\n",
       "      <th>...</th>\n",
       "      <th>fBodyBodyGyroJerkMag-skewness()</th>\n",
       "      <th>fBodyBodyGyroJerkMag-kurtosis()</th>\n",
       "      <th>angle(tBodyAccMean,gravity)</th>\n",
       "      <th>angle(tBodyAccJerkMean),gravityMean)</th>\n",
       "      <th>angle(tBodyGyroMean,gravityMean)</th>\n",
       "      <th>angle(tBodyGyroJerkMean,gravityMean)</th>\n",
       "      <th>angle(X,gravityMean)</th>\n",
       "      <th>angle(Y,gravityMean)</th>\n",
       "      <th>angle(Z,gravityMean)</th>\n",
       "      <th>Activity</th>\n",
       "    </tr>\n",
       "  </thead>\n",
       "  <tbody>\n",
       "    <tr>\n",
       "      <th>0</th>\n",
       "      <td>0.288585</td>\n",
       "      <td>-0.020294</td>\n",
       "      <td>-0.132905</td>\n",
       "      <td>-0.995279</td>\n",
       "      <td>-0.983111</td>\n",
       "      <td>-0.913526</td>\n",
       "      <td>-0.995112</td>\n",
       "      <td>-0.983185</td>\n",
       "      <td>-0.923527</td>\n",
       "      <td>-0.934724</td>\n",
       "      <td>...</td>\n",
       "      <td>-0.298676</td>\n",
       "      <td>-0.710304</td>\n",
       "      <td>-0.112754</td>\n",
       "      <td>0.030400</td>\n",
       "      <td>-0.464761</td>\n",
       "      <td>-0.018446</td>\n",
       "      <td>-0.841247</td>\n",
       "      <td>0.179941</td>\n",
       "      <td>-0.058627</td>\n",
       "      <td>STANDING</td>\n",
       "    </tr>\n",
       "    <tr>\n",
       "      <th>1</th>\n",
       "      <td>0.278419</td>\n",
       "      <td>-0.016411</td>\n",
       "      <td>-0.123520</td>\n",
       "      <td>-0.998245</td>\n",
       "      <td>-0.975300</td>\n",
       "      <td>-0.960322</td>\n",
       "      <td>-0.998807</td>\n",
       "      <td>-0.974914</td>\n",
       "      <td>-0.957686</td>\n",
       "      <td>-0.943068</td>\n",
       "      <td>...</td>\n",
       "      <td>-0.595051</td>\n",
       "      <td>-0.861499</td>\n",
       "      <td>0.053477</td>\n",
       "      <td>-0.007435</td>\n",
       "      <td>-0.732626</td>\n",
       "      <td>0.703511</td>\n",
       "      <td>-0.844788</td>\n",
       "      <td>0.180289</td>\n",
       "      <td>-0.054317</td>\n",
       "      <td>STANDING</td>\n",
       "    </tr>\n",
       "    <tr>\n",
       "      <th>2</th>\n",
       "      <td>0.279653</td>\n",
       "      <td>-0.019467</td>\n",
       "      <td>-0.113462</td>\n",
       "      <td>-0.995380</td>\n",
       "      <td>-0.967187</td>\n",
       "      <td>-0.978944</td>\n",
       "      <td>-0.996520</td>\n",
       "      <td>-0.963668</td>\n",
       "      <td>-0.977469</td>\n",
       "      <td>-0.938692</td>\n",
       "      <td>...</td>\n",
       "      <td>-0.390748</td>\n",
       "      <td>-0.760104</td>\n",
       "      <td>-0.118559</td>\n",
       "      <td>0.177899</td>\n",
       "      <td>0.100699</td>\n",
       "      <td>0.808529</td>\n",
       "      <td>-0.848933</td>\n",
       "      <td>0.180637</td>\n",
       "      <td>-0.049118</td>\n",
       "      <td>STANDING</td>\n",
       "    </tr>\n",
       "    <tr>\n",
       "      <th>3</th>\n",
       "      <td>0.279174</td>\n",
       "      <td>-0.026201</td>\n",
       "      <td>-0.123283</td>\n",
       "      <td>-0.996091</td>\n",
       "      <td>-0.983403</td>\n",
       "      <td>-0.990675</td>\n",
       "      <td>-0.997099</td>\n",
       "      <td>-0.982750</td>\n",
       "      <td>-0.989302</td>\n",
       "      <td>-0.938692</td>\n",
       "      <td>...</td>\n",
       "      <td>-0.117290</td>\n",
       "      <td>-0.482845</td>\n",
       "      <td>-0.036788</td>\n",
       "      <td>-0.012892</td>\n",
       "      <td>0.640011</td>\n",
       "      <td>-0.485366</td>\n",
       "      <td>-0.848649</td>\n",
       "      <td>0.181935</td>\n",
       "      <td>-0.047663</td>\n",
       "      <td>STANDING</td>\n",
       "    </tr>\n",
       "    <tr>\n",
       "      <th>4</th>\n",
       "      <td>0.276629</td>\n",
       "      <td>-0.016570</td>\n",
       "      <td>-0.115362</td>\n",
       "      <td>-0.998139</td>\n",
       "      <td>-0.980817</td>\n",
       "      <td>-0.990482</td>\n",
       "      <td>-0.998321</td>\n",
       "      <td>-0.979672</td>\n",
       "      <td>-0.990441</td>\n",
       "      <td>-0.942469</td>\n",
       "      <td>...</td>\n",
       "      <td>-0.351471</td>\n",
       "      <td>-0.699205</td>\n",
       "      <td>0.123320</td>\n",
       "      <td>0.122542</td>\n",
       "      <td>0.693578</td>\n",
       "      <td>-0.615971</td>\n",
       "      <td>-0.847865</td>\n",
       "      <td>0.185151</td>\n",
       "      <td>-0.043892</td>\n",
       "      <td>STANDING</td>\n",
       "    </tr>\n",
       "  </tbody>\n",
       "</table>\n",
       "<p>5 rows × 562 columns</p>\n",
       "</div>"
      ],
      "text/plain": [
       "   tBodyAcc-mean()-X  tBodyAcc-mean()-Y  tBodyAcc-mean()-Z  tBodyAcc-std()-X  \\\n",
       "0           0.288585          -0.020294          -0.132905         -0.995279   \n",
       "1           0.278419          -0.016411          -0.123520         -0.998245   \n",
       "2           0.279653          -0.019467          -0.113462         -0.995380   \n",
       "3           0.279174          -0.026201          -0.123283         -0.996091   \n",
       "4           0.276629          -0.016570          -0.115362         -0.998139   \n",
       "\n",
       "   tBodyAcc-std()-Y  tBodyAcc-std()-Z  tBodyAcc-mad()-X  tBodyAcc-mad()-Y  \\\n",
       "0         -0.983111         -0.913526         -0.995112         -0.983185   \n",
       "1         -0.975300         -0.960322         -0.998807         -0.974914   \n",
       "2         -0.967187         -0.978944         -0.996520         -0.963668   \n",
       "3         -0.983403         -0.990675         -0.997099         -0.982750   \n",
       "4         -0.980817         -0.990482         -0.998321         -0.979672   \n",
       "\n",
       "   tBodyAcc-mad()-Z  tBodyAcc-max()-X  ...  fBodyBodyGyroJerkMag-skewness()  \\\n",
       "0         -0.923527         -0.934724  ...                        -0.298676   \n",
       "1         -0.957686         -0.943068  ...                        -0.595051   \n",
       "2         -0.977469         -0.938692  ...                        -0.390748   \n",
       "3         -0.989302         -0.938692  ...                        -0.117290   \n",
       "4         -0.990441         -0.942469  ...                        -0.351471   \n",
       "\n",
       "   fBodyBodyGyroJerkMag-kurtosis()  angle(tBodyAccMean,gravity)  \\\n",
       "0                        -0.710304                    -0.112754   \n",
       "1                        -0.861499                     0.053477   \n",
       "2                        -0.760104                    -0.118559   \n",
       "3                        -0.482845                    -0.036788   \n",
       "4                        -0.699205                     0.123320   \n",
       "\n",
       "   angle(tBodyAccJerkMean),gravityMean)  angle(tBodyGyroMean,gravityMean)  \\\n",
       "0                              0.030400                         -0.464761   \n",
       "1                             -0.007435                         -0.732626   \n",
       "2                              0.177899                          0.100699   \n",
       "3                             -0.012892                          0.640011   \n",
       "4                              0.122542                          0.693578   \n",
       "\n",
       "   angle(tBodyGyroJerkMean,gravityMean)  angle(X,gravityMean)  \\\n",
       "0                             -0.018446             -0.841247   \n",
       "1                              0.703511             -0.844788   \n",
       "2                              0.808529             -0.848933   \n",
       "3                             -0.485366             -0.848649   \n",
       "4                             -0.615971             -0.847865   \n",
       "\n",
       "   angle(Y,gravityMean)  angle(Z,gravityMean)  Activity  \n",
       "0              0.179941             -0.058627  STANDING  \n",
       "1              0.180289             -0.054317  STANDING  \n",
       "2              0.180637             -0.049118  STANDING  \n",
       "3              0.181935             -0.047663  STANDING  \n",
       "4              0.185151             -0.043892  STANDING  \n",
       "\n",
       "[5 rows x 562 columns]"
      ]
     },
     "execution_count": 3,
     "metadata": {},
     "output_type": "execute_result"
    }
   ],
   "source": [
    "df.head()"
   ]
  },
  {
   "cell_type": "code",
   "execution_count": 4,
   "id": "a2ef8fa8",
   "metadata": {
    "colab": {
     "base_uri": "https://localhost:8080/"
    },
    "id": "a2ef8fa8",
    "outputId": "168f04dd-960a-480a-ba3e-4dbdb1db8829"
   },
   "outputs": [
    {
     "data": {
      "text/plain": [
       "(10299, 562)"
      ]
     },
     "execution_count": 4,
     "metadata": {},
     "output_type": "execute_result"
    }
   ],
   "source": [
    "df.shape"
   ]
  },
  {
   "cell_type": "code",
   "execution_count": 5,
   "id": "f1b66426",
   "metadata": {
    "colab": {
     "base_uri": "https://localhost:8080/"
    },
    "id": "f1b66426",
    "outputId": "c8b89c3a-e984-47ce-9495-36b712b90ac9"
   },
   "outputs": [
    {
     "data": {
      "text/plain": [
       "Index(['tBodyAcc-mean()-X', 'tBodyAcc-mean()-Y', 'tBodyAcc-mean()-Z',\n",
       "       'tBodyAcc-std()-X', 'tBodyAcc-std()-Y', 'tBodyAcc-std()-Z',\n",
       "       'tBodyAcc-mad()-X', 'tBodyAcc-mad()-Y', 'tBodyAcc-mad()-Z',\n",
       "       'tBodyAcc-max()-X',\n",
       "       ...\n",
       "       'fBodyBodyGyroJerkMag-skewness()', 'fBodyBodyGyroJerkMag-kurtosis()',\n",
       "       'angle(tBodyAccMean,gravity)', 'angle(tBodyAccJerkMean),gravityMean)',\n",
       "       'angle(tBodyGyroMean,gravityMean)',\n",
       "       'angle(tBodyGyroJerkMean,gravityMean)', 'angle(X,gravityMean)',\n",
       "       'angle(Y,gravityMean)', 'angle(Z,gravityMean)', 'Activity'],\n",
       "      dtype='object', length=562)"
      ]
     },
     "execution_count": 5,
     "metadata": {},
     "output_type": "execute_result"
    }
   ],
   "source": [
    "df.columns"
   ]
  },
  {
   "cell_type": "code",
   "execution_count": 6,
   "id": "bb32fa90",
   "metadata": {
    "colab": {
     "base_uri": "https://localhost:8080/"
    },
    "id": "bb32fa90",
    "outputId": "f964c9bb-8722-42da-de38-48e50a9513b9"
   },
   "outputs": [
    {
     "data": {
      "text/plain": [
       "tBodyAcc-mean()-X                       float64\n",
       "tBodyAcc-mean()-Y                       float64\n",
       "tBodyAcc-mean()-Z                       float64\n",
       "tBodyAcc-std()-X                        float64\n",
       "tBodyAcc-std()-Y                        float64\n",
       "                                         ...   \n",
       "angle(tBodyGyroJerkMean,gravityMean)    float64\n",
       "angle(X,gravityMean)                    float64\n",
       "angle(Y,gravityMean)                    float64\n",
       "angle(Z,gravityMean)                    float64\n",
       "Activity                                 object\n",
       "Length: 562, dtype: object"
      ]
     },
     "execution_count": 6,
     "metadata": {},
     "output_type": "execute_result"
    }
   ],
   "source": [
    "df.dtypes"
   ]
  },
  {
   "cell_type": "code",
   "execution_count": 7,
   "id": "b57343ae",
   "metadata": {
    "colab": {
     "base_uri": "https://localhost:8080/"
    },
    "id": "b57343ae",
    "outputId": "13a41ede-be2d-4e43-99f6-8e3bfb7f4692"
   },
   "outputs": [
    {
     "name": "stdout",
     "output_type": "stream",
     "text": [
      "<class 'pandas.core.frame.DataFrame'>\n",
      "RangeIndex: 10299 entries, 0 to 10298\n",
      "Columns: 562 entries, tBodyAcc-mean()-X to Activity\n",
      "dtypes: float64(561), object(1)\n",
      "memory usage: 44.2+ MB\n"
     ]
    }
   ],
   "source": [
    "df.info()"
   ]
  },
  {
   "cell_type": "code",
   "execution_count": 8,
   "id": "e32fdb9f",
   "metadata": {
    "colab": {
     "base_uri": "https://localhost:8080/"
    },
    "id": "e32fdb9f",
    "outputId": "7ed4cfbf-c2c4-4262-95f3-1f9fd592df96"
   },
   "outputs": [
    {
     "data": {
      "text/plain": [
       "<bound method IndexOpsMixin.value_counts of 0                STANDING\n",
       "1                STANDING\n",
       "2                STANDING\n",
       "3                STANDING\n",
       "4                STANDING\n",
       "               ...       \n",
       "10294    WALKING_UPSTAIRS\n",
       "10295    WALKING_UPSTAIRS\n",
       "10296    WALKING_UPSTAIRS\n",
       "10297    WALKING_UPSTAIRS\n",
       "10298    WALKING_UPSTAIRS\n",
       "Name: Activity, Length: 10299, dtype: object>"
      ]
     },
     "execution_count": 8,
     "metadata": {},
     "output_type": "execute_result"
    }
   ],
   "source": [
    "df['Activity'].value_counts"
   ]
  },
  {
   "cell_type": "markdown",
   "id": "13399b14",
   "metadata": {
    "id": "13399b14"
   },
   "source": [
    "### Step 2: Build a small dataset"
   ]
  },
  {
   "cell_type": "code",
   "execution_count": 9,
   "id": "13999e31",
   "metadata": {
    "id": "13999e31"
   },
   "outputs": [],
   "source": [
    "lay = df.loc[df['Activity'] == \"LAYING\"][:500]\n",
    "sit = df.loc[df['Activity'] == \"SITTING\"][:500]\n",
    "walk = df.loc[df['Activity'] == \"WALKING\"][:500]\n",
    "frames = [lay, sit, walk]\n",
    "df_new = pd.concat(frames)"
   ]
  },
  {
   "cell_type": "code",
   "execution_count": 10,
   "id": "5c8d1868",
   "metadata": {
    "colab": {
     "base_uri": "https://localhost:8080/"
    },
    "id": "5c8d1868",
    "outputId": "c19e04b3-6a14-47c4-c5d1-eecf6f508874"
   },
   "outputs": [
    {
     "data": {
      "text/plain": [
       "(1500, 562)"
      ]
     },
     "execution_count": 10,
     "metadata": {},
     "output_type": "execute_result"
    }
   ],
   "source": [
    "df_new.shape"
   ]
  },
  {
   "cell_type": "code",
   "execution_count": 11,
   "id": "c4fdbb21",
   "metadata": {
    "id": "c4fdbb21"
   },
   "outputs": [],
   "source": [
    "df_new.to_csv(\"Human_Activity_sample.csv\")"
   ]
  },
  {
   "cell_type": "code",
   "execution_count": 12,
   "id": "606dfd94",
   "metadata": {
    "id": "606dfd94"
   },
   "outputs": [],
   "source": [
    "df1=pd.read_csv('Human_Activity_sample.csv')"
   ]
  },
  {
   "cell_type": "code",
   "execution_count": 13,
   "id": "3b9bb3f4",
   "metadata": {
    "colab": {
     "base_uri": "https://localhost:8080/",
     "height": 317
    },
    "id": "3b9bb3f4",
    "outputId": "bca56a09-814b-48c4-bc27-a5f1e6056812"
   },
   "outputs": [
    {
     "data": {
      "text/html": [
       "<div>\n",
       "<style scoped>\n",
       "    .dataframe tbody tr th:only-of-type {\n",
       "        vertical-align: middle;\n",
       "    }\n",
       "\n",
       "    .dataframe tbody tr th {\n",
       "        vertical-align: top;\n",
       "    }\n",
       "\n",
       "    .dataframe thead th {\n",
       "        text-align: right;\n",
       "    }\n",
       "</style>\n",
       "<table border=\"1\" class=\"dataframe\">\n",
       "  <thead>\n",
       "    <tr style=\"text-align: right;\">\n",
       "      <th></th>\n",
       "      <th>Unnamed: 0</th>\n",
       "      <th>tBodyAcc-mean()-X</th>\n",
       "      <th>tBodyAcc-mean()-Y</th>\n",
       "      <th>tBodyAcc-mean()-Z</th>\n",
       "      <th>tBodyAcc-std()-X</th>\n",
       "      <th>tBodyAcc-std()-Y</th>\n",
       "      <th>tBodyAcc-std()-Z</th>\n",
       "      <th>tBodyAcc-mad()-X</th>\n",
       "      <th>tBodyAcc-mad()-Y</th>\n",
       "      <th>tBodyAcc-mad()-Z</th>\n",
       "      <th>...</th>\n",
       "      <th>fBodyBodyGyroJerkMag-skewness()</th>\n",
       "      <th>fBodyBodyGyroJerkMag-kurtosis()</th>\n",
       "      <th>angle(tBodyAccMean,gravity)</th>\n",
       "      <th>angle(tBodyAccJerkMean),gravityMean)</th>\n",
       "      <th>angle(tBodyGyroMean,gravityMean)</th>\n",
       "      <th>angle(tBodyGyroJerkMean,gravityMean)</th>\n",
       "      <th>angle(X,gravityMean)</th>\n",
       "      <th>angle(Y,gravityMean)</th>\n",
       "      <th>angle(Z,gravityMean)</th>\n",
       "      <th>Activity</th>\n",
       "    </tr>\n",
       "  </thead>\n",
       "  <tbody>\n",
       "    <tr>\n",
       "      <th>0</th>\n",
       "      <td>51</td>\n",
       "      <td>0.403474</td>\n",
       "      <td>-0.015074</td>\n",
       "      <td>-0.118167</td>\n",
       "      <td>-0.914811</td>\n",
       "      <td>-0.895231</td>\n",
       "      <td>-0.891748</td>\n",
       "      <td>-0.917696</td>\n",
       "      <td>-0.924624</td>\n",
       "      <td>-0.905895</td>\n",
       "      <td>...</td>\n",
       "      <td>0.383907</td>\n",
       "      <td>-0.021764</td>\n",
       "      <td>-0.068580</td>\n",
       "      <td>-0.043105</td>\n",
       "      <td>-0.332249</td>\n",
       "      <td>0.487505</td>\n",
       "      <td>0.432479</td>\n",
       "      <td>-0.553351</td>\n",
       "      <td>-0.432876</td>\n",
       "      <td>LAYING</td>\n",
       "    </tr>\n",
       "    <tr>\n",
       "      <th>1</th>\n",
       "      <td>52</td>\n",
       "      <td>0.278373</td>\n",
       "      <td>-0.020561</td>\n",
       "      <td>-0.096825</td>\n",
       "      <td>-0.984883</td>\n",
       "      <td>-0.991118</td>\n",
       "      <td>-0.982112</td>\n",
       "      <td>-0.987985</td>\n",
       "      <td>-0.990362</td>\n",
       "      <td>-0.982189</td>\n",
       "      <td>...</td>\n",
       "      <td>-0.687636</td>\n",
       "      <td>-0.912512</td>\n",
       "      <td>-0.113048</td>\n",
       "      <td>0.223038</td>\n",
       "      <td>-0.393075</td>\n",
       "      <td>0.359037</td>\n",
       "      <td>0.399853</td>\n",
       "      <td>-0.550364</td>\n",
       "      <td>-0.427593</td>\n",
       "      <td>LAYING</td>\n",
       "    </tr>\n",
       "    <tr>\n",
       "      <th>2</th>\n",
       "      <td>53</td>\n",
       "      <td>0.276555</td>\n",
       "      <td>-0.017869</td>\n",
       "      <td>-0.107621</td>\n",
       "      <td>-0.994195</td>\n",
       "      <td>-0.996372</td>\n",
       "      <td>-0.995615</td>\n",
       "      <td>-0.994901</td>\n",
       "      <td>-0.996360</td>\n",
       "      <td>-0.996628</td>\n",
       "      <td>...</td>\n",
       "      <td>-0.519084</td>\n",
       "      <td>-0.813040</td>\n",
       "      <td>0.293145</td>\n",
       "      <td>-0.018635</td>\n",
       "      <td>-0.246980</td>\n",
       "      <td>0.453923</td>\n",
       "      <td>0.399066</td>\n",
       "      <td>-0.546725</td>\n",
       "      <td>-0.431244</td>\n",
       "      <td>LAYING</td>\n",
       "    </tr>\n",
       "    <tr>\n",
       "      <th>3</th>\n",
       "      <td>54</td>\n",
       "      <td>0.279575</td>\n",
       "      <td>-0.017276</td>\n",
       "      <td>-0.109481</td>\n",
       "      <td>-0.996135</td>\n",
       "      <td>-0.995812</td>\n",
       "      <td>-0.998689</td>\n",
       "      <td>-0.996393</td>\n",
       "      <td>-0.995474</td>\n",
       "      <td>-0.999006</td>\n",
       "      <td>...</td>\n",
       "      <td>-0.855139</td>\n",
       "      <td>-0.984028</td>\n",
       "      <td>0.240526</td>\n",
       "      <td>0.149804</td>\n",
       "      <td>0.393611</td>\n",
       "      <td>0.386719</td>\n",
       "      <td>0.399555</td>\n",
       "      <td>-0.546477</td>\n",
       "      <td>-0.431646</td>\n",
       "      <td>LAYING</td>\n",
       "    </tr>\n",
       "    <tr>\n",
       "      <th>4</th>\n",
       "      <td>55</td>\n",
       "      <td>0.276527</td>\n",
       "      <td>-0.016819</td>\n",
       "      <td>-0.107983</td>\n",
       "      <td>-0.996775</td>\n",
       "      <td>-0.997256</td>\n",
       "      <td>-0.995422</td>\n",
       "      <td>-0.997167</td>\n",
       "      <td>-0.997108</td>\n",
       "      <td>-0.995739</td>\n",
       "      <td>...</td>\n",
       "      <td>-0.852171</td>\n",
       "      <td>-0.954254</td>\n",
       "      <td>-0.347519</td>\n",
       "      <td>-0.469155</td>\n",
       "      <td>0.308855</td>\n",
       "      <td>-0.354146</td>\n",
       "      <td>0.398889</td>\n",
       "      <td>-0.546712</td>\n",
       "      <td>-0.431207</td>\n",
       "      <td>LAYING</td>\n",
       "    </tr>\n",
       "  </tbody>\n",
       "</table>\n",
       "<p>5 rows × 563 columns</p>\n",
       "</div>"
      ],
      "text/plain": [
       "   Unnamed: 0  tBodyAcc-mean()-X  tBodyAcc-mean()-Y  tBodyAcc-mean()-Z  \\\n",
       "0          51           0.403474          -0.015074          -0.118167   \n",
       "1          52           0.278373          -0.020561          -0.096825   \n",
       "2          53           0.276555          -0.017869          -0.107621   \n",
       "3          54           0.279575          -0.017276          -0.109481   \n",
       "4          55           0.276527          -0.016819          -0.107983   \n",
       "\n",
       "   tBodyAcc-std()-X  tBodyAcc-std()-Y  tBodyAcc-std()-Z  tBodyAcc-mad()-X  \\\n",
       "0         -0.914811         -0.895231         -0.891748         -0.917696   \n",
       "1         -0.984883         -0.991118         -0.982112         -0.987985   \n",
       "2         -0.994195         -0.996372         -0.995615         -0.994901   \n",
       "3         -0.996135         -0.995812         -0.998689         -0.996393   \n",
       "4         -0.996775         -0.997256         -0.995422         -0.997167   \n",
       "\n",
       "   tBodyAcc-mad()-Y  tBodyAcc-mad()-Z  ...  fBodyBodyGyroJerkMag-skewness()  \\\n",
       "0         -0.924624         -0.905895  ...                         0.383907   \n",
       "1         -0.990362         -0.982189  ...                        -0.687636   \n",
       "2         -0.996360         -0.996628  ...                        -0.519084   \n",
       "3         -0.995474         -0.999006  ...                        -0.855139   \n",
       "4         -0.997108         -0.995739  ...                        -0.852171   \n",
       "\n",
       "   fBodyBodyGyroJerkMag-kurtosis()  angle(tBodyAccMean,gravity)  \\\n",
       "0                        -0.021764                    -0.068580   \n",
       "1                        -0.912512                    -0.113048   \n",
       "2                        -0.813040                     0.293145   \n",
       "3                        -0.984028                     0.240526   \n",
       "4                        -0.954254                    -0.347519   \n",
       "\n",
       "   angle(tBodyAccJerkMean),gravityMean)  angle(tBodyGyroMean,gravityMean)  \\\n",
       "0                             -0.043105                         -0.332249   \n",
       "1                              0.223038                         -0.393075   \n",
       "2                             -0.018635                         -0.246980   \n",
       "3                              0.149804                          0.393611   \n",
       "4                             -0.469155                          0.308855   \n",
       "\n",
       "   angle(tBodyGyroJerkMean,gravityMean)  angle(X,gravityMean)  \\\n",
       "0                              0.487505              0.432479   \n",
       "1                              0.359037              0.399853   \n",
       "2                              0.453923              0.399066   \n",
       "3                              0.386719              0.399555   \n",
       "4                             -0.354146              0.398889   \n",
       "\n",
       "   angle(Y,gravityMean)  angle(Z,gravityMean)  Activity  \n",
       "0             -0.553351             -0.432876    LAYING  \n",
       "1             -0.550364             -0.427593    LAYING  \n",
       "2             -0.546725             -0.431244    LAYING  \n",
       "3             -0.546477             -0.431646    LAYING  \n",
       "4             -0.546712             -0.431207    LAYING  \n",
       "\n",
       "[5 rows x 563 columns]"
      ]
     },
     "execution_count": 13,
     "metadata": {},
     "output_type": "execute_result"
    }
   ],
   "source": [
    "df1.head()"
   ]
  },
  {
   "cell_type": "code",
   "execution_count": 14,
   "id": "8e2da966",
   "metadata": {
    "colab": {
     "base_uri": "https://localhost:8080/"
    },
    "id": "8e2da966",
    "outputId": "e23e547c-dbf6-4b0f-d4bb-dafdaa3558b4"
   },
   "outputs": [
    {
     "data": {
      "text/plain": [
       "(1500, 563)"
      ]
     },
     "execution_count": 14,
     "metadata": {},
     "output_type": "execute_result"
    }
   ],
   "source": [
    "df1.shape"
   ]
  },
  {
   "cell_type": "code",
   "execution_count": 15,
   "id": "2532fbd1",
   "metadata": {
    "colab": {
     "base_uri": "https://localhost:8080/"
    },
    "id": "2532fbd1",
    "outputId": "ea3749cf-ae48-42ed-8716-d2ddb717ad1c"
   },
   "outputs": [
    {
     "name": "stdout",
     "output_type": "stream",
     "text": [
      "<class 'pandas.core.frame.DataFrame'>\n",
      "RangeIndex: 1500 entries, 0 to 1499\n",
      "Columns: 563 entries, Unnamed: 0 to Activity\n",
      "dtypes: float64(561), int64(1), object(1)\n",
      "memory usage: 6.4+ MB\n"
     ]
    }
   ],
   "source": [
    "df1.info()"
   ]
  },
  {
   "cell_type": "code",
   "execution_count": 16,
   "id": "a02f2793",
   "metadata": {
    "colab": {
     "base_uri": "https://localhost:8080/"
    },
    "id": "a02f2793",
    "outputId": "facacb70-b061-4282-95f7-88896395eb5b"
   },
   "outputs": [
    {
     "data": {
      "text/plain": [
       "Index(['Unnamed: 0', 'tBodyAcc-mean()-X', 'tBodyAcc-mean()-Y',\n",
       "       'tBodyAcc-mean()-Z', 'tBodyAcc-std()-X', 'tBodyAcc-std()-Y',\n",
       "       'tBodyAcc-std()-Z', 'tBodyAcc-mad()-X', 'tBodyAcc-mad()-Y',\n",
       "       'tBodyAcc-mad()-Z',\n",
       "       ...\n",
       "       'fBodyBodyGyroJerkMag-skewness()', 'fBodyBodyGyroJerkMag-kurtosis()',\n",
       "       'angle(tBodyAccMean,gravity)', 'angle(tBodyAccJerkMean),gravityMean)',\n",
       "       'angle(tBodyGyroMean,gravityMean)',\n",
       "       'angle(tBodyGyroJerkMean,gravityMean)', 'angle(X,gravityMean)',\n",
       "       'angle(Y,gravityMean)', 'angle(Z,gravityMean)', 'Activity'],\n",
       "      dtype='object', length=563)"
      ]
     },
     "execution_count": 16,
     "metadata": {},
     "output_type": "execute_result"
    }
   ],
   "source": [
    "df1.columns"
   ]
  },
  {
   "cell_type": "code",
   "execution_count": 17,
   "id": "7ce5c367",
   "metadata": {
    "colab": {
     "base_uri": "https://localhost:8080/"
    },
    "id": "7ce5c367",
    "outputId": "306faa7b-8eaa-4392-862c-3d54f2d75212"
   },
   "outputs": [
    {
     "data": {
      "text/plain": [
       "Unnamed: 0                                int64\n",
       "tBodyAcc-mean()-X                       float64\n",
       "tBodyAcc-mean()-Y                       float64\n",
       "tBodyAcc-mean()-Z                       float64\n",
       "tBodyAcc-std()-X                        float64\n",
       "                                         ...   \n",
       "angle(tBodyGyroJerkMean,gravityMean)    float64\n",
       "angle(X,gravityMean)                    float64\n",
       "angle(Y,gravityMean)                    float64\n",
       "angle(Z,gravityMean)                    float64\n",
       "Activity                                 object\n",
       "Length: 563, dtype: object"
      ]
     },
     "execution_count": 17,
     "metadata": {},
     "output_type": "execute_result"
    }
   ],
   "source": [
    "df1.dtypes"
   ]
  },
  {
   "cell_type": "code",
   "execution_count": 18,
   "id": "4cd437a4",
   "metadata": {
    "colab": {
     "base_uri": "https://localhost:8080/"
    },
    "id": "4cd437a4",
    "outputId": "4dba1c42-afd2-44eb-d415-dccd351b85c9"
   },
   "outputs": [
    {
     "data": {
      "text/plain": [
       "LAYING     500\n",
       "SITTING    500\n",
       "WALKING    500\n",
       "Name: Activity, dtype: int64"
      ]
     },
     "execution_count": 18,
     "metadata": {},
     "output_type": "execute_result"
    }
   ],
   "source": [
    "df1[\"Activity\"].value_counts()"
   ]
  },
  {
   "cell_type": "markdown",
   "id": "cc9e590d",
   "metadata": {},
   "source": []
  },
  {
   "cell_type": "markdown",
   "id": "69722c5c",
   "metadata": {
    "id": "69722c5c"
   },
   "source": [
    "### Step 3: Build GradientBoostingClassifier"
   ]
  },
  {
   "cell_type": "code",
   "execution_count": 19,
   "id": "440fbf89",
   "metadata": {
    "id": "440fbf89"
   },
   "outputs": [],
   "source": [
    "X=df1.drop('Activity',axis=1)\n",
    "y=df1.Activity"
   ]
  },
  {
   "cell_type": "code",
   "execution_count": 20,
   "id": "a95706d8",
   "metadata": {
    "id": "a95706d8"
   },
   "outputs": [],
   "source": [
    "X_train,X_test,y_train,y_test = train_test_split(X,y,test_size=0.3,random_state=42)"
   ]
  },
  {
   "cell_type": "code",
   "execution_count": 21,
   "id": "a047c850",
   "metadata": {
    "colab": {
     "base_uri": "https://localhost:8080/",
     "height": 75
    },
    "id": "a047c850",
    "outputId": "3360a086-6967-4454-ebe0-9edb59f0b401",
    "scrolled": false
   },
   "outputs": [],
   "source": [
    "model = GradientBoostingClassifier(n_estimators=100,learning_rate=1.0,max_depth=1,random_state=42)\n",
    "model.fit(X_train,y_train)\n",
    "y_pred=model.predict(X_test)"
   ]
  },
  {
   "cell_type": "code",
   "execution_count": 22,
   "id": "3c62f8a3",
   "metadata": {
    "colab": {
     "base_uri": "https://localhost:8080/"
    },
    "id": "3c62f8a3",
    "outputId": "6c875e76-55a8-443c-d437-711400616097"
   },
   "outputs": [
    {
     "data": {
      "text/plain": [
       "1.0"
      ]
     },
     "execution_count": 22,
     "metadata": {},
     "output_type": "execute_result"
    }
   ],
   "source": [
    "accuracy_score(y_test,y_pred)"
   ]
  },
  {
   "cell_type": "code",
   "execution_count": 23,
   "id": "8530274c",
   "metadata": {
    "colab": {
     "base_uri": "https://localhost:8080/"
    },
    "id": "8530274c",
    "outputId": "b4dd236d-5da7-4c93-b34b-90bb4cb1eb06"
   },
   "outputs": [
    {
     "name": "stdout",
     "output_type": "stream",
     "text": [
      "              precision    recall  f1-score   support\n",
      "\n",
      "      LAYING       1.00      1.00      1.00       148\n",
      "     SITTING       1.00      1.00      1.00       141\n",
      "     WALKING       1.00      1.00      1.00       161\n",
      "\n",
      "    accuracy                           1.00       450\n",
      "   macro avg       1.00      1.00      1.00       450\n",
      "weighted avg       1.00      1.00      1.00       450\n",
      "\n"
     ]
    }
   ],
   "source": [
    "print(classification_report(y_test,y_pred))"
   ]
  },
  {
   "cell_type": "markdown",
   "id": "d4843f8e",
   "metadata": {
    "id": "d4843f8e"
   },
   "source": [
    "### Step4. [Find Best no. of trees and Best Learning Rate using Grid Search and Cross Validation]"
   ]
  },
  {
   "cell_type": "code",
   "execution_count": 26,
   "id": "477dac3e",
   "metadata": {},
   "outputs": [],
   "source": [
    "classifier = GradientBoostingClassifier()"
   ]
  },
  {
   "cell_type": "code",
   "execution_count": 27,
   "id": "eb0ba627",
   "metadata": {
    "id": "eb0ba627"
   },
   "outputs": [],
   "source": [
    "parameter = {'n_estimators': [50, 100, 200, 400], 'learning_rate': [0.1, 0.01]}"
   ]
  },
  {
   "cell_type": "code",
   "execution_count": 28,
   "id": "b90ea868",
   "metadata": {
    "id": "b90ea868"
   },
   "outputs": [],
   "source": [
    "model1 = GridSearchCV(estimator=classifier, param_grid=parameter,cv=5, n_jobs=-1)"
   ]
  },
  {
   "cell_type": "code",
   "execution_count": 29,
   "id": "e529d773",
   "metadata": {
    "colab": {
     "base_uri": "https://localhost:8080/",
     "height": 118
    },
    "id": "e529d773",
    "outputId": "8d8d9cbd-3d90-4084-aa14-4ff6900f019b"
   },
   "outputs": [],
   "source": [
    "model1.fit(X_train,y_train)\n",
    "y_pred2=model1.predict(X_test)"
   ]
  },
  {
   "cell_type": "code",
   "execution_count": 30,
   "id": "48c10926",
   "metadata": {
    "colab": {
     "base_uri": "https://localhost:8080/"
    },
    "id": "48c10926",
    "outputId": "69fa3157-1bd6-4a58-dce3-3878ee7fc459"
   },
   "outputs": [
    {
     "data": {
      "text/plain": [
       "1.0"
      ]
     },
     "execution_count": 30,
     "metadata": {},
     "output_type": "execute_result"
    }
   ],
   "source": [
    "accuracy_score(y_test,y_pred2)"
   ]
  },
  {
   "cell_type": "code",
   "execution_count": 31,
   "id": "697ae006",
   "metadata": {
    "colab": {
     "base_uri": "https://localhost:8080/"
    },
    "id": "697ae006",
    "outputId": "b3d42c09-4ba5-411d-bf6c-3252c7125845"
   },
   "outputs": [
    {
     "name": "stdout",
     "output_type": "stream",
     "text": [
      "              precision    recall  f1-score   support\n",
      "\n",
      "      LAYING       1.00      1.00      1.00       148\n",
      "     SITTING       1.00      1.00      1.00       141\n",
      "     WALKING       1.00      1.00      1.00       161\n",
      "\n",
      "    accuracy                           1.00       450\n",
      "   macro avg       1.00      1.00      1.00       450\n",
      "weighted avg       1.00      1.00      1.00       450\n",
      "\n"
     ]
    }
   ],
   "source": [
    "print(classification_report(y_test,y_pred2))"
   ]
  },
  {
   "cell_type": "code",
   "execution_count": 32,
   "id": "04971ee0",
   "metadata": {
    "colab": {
     "base_uri": "https://localhost:8080/"
    },
    "id": "04971ee0",
    "outputId": "ede6974b-02a0-442a-d485-16b41559ed5b"
   },
   "outputs": [
    {
     "name": "stdout",
     "output_type": "stream",
     "text": [
      "GradientBoostingClassifier(n_estimators=50)\n"
     ]
    }
   ],
   "source": [
    "print(model1.best_estimator_)"
   ]
  },
  {
   "cell_type": "markdown",
   "id": "d86f60bd",
   "metadata": {
    "id": "d86f60bd"
   },
   "source": [
    "### Step5. [Build AdaBoostClassifier]"
   ]
  },
  {
   "cell_type": "code",
   "execution_count": 33,
   "id": "4f2917ca",
   "metadata": {
    "id": "4f2917ca"
   },
   "outputs": [],
   "source": [
    "base = DecisionTreeClassifier()"
   ]
  },
  {
   "cell_type": "code",
   "execution_count": 34,
   "id": "501a7e33",
   "metadata": {
    "id": "501a7e33"
   },
   "outputs": [],
   "source": [
    "model2 = AdaBoostClassifier(base_estimator=base,random_state=0)"
   ]
  },
  {
   "cell_type": "code",
   "execution_count": 35,
   "id": "0ff60eb2",
   "metadata": {
    "id": "0ff60eb2"
   },
   "outputs": [],
   "source": [
    "parameter = {'n_estimators': [100, 150, 200], 'learning_rate': [0.01, 0.001]}"
   ]
  },
  {
   "cell_type": "code",
   "execution_count": 36,
   "id": "30040d19",
   "metadata": {
    "id": "30040d19"
   },
   "outputs": [],
   "source": [
    "model3 = GridSearchCV(model2,param_grid=parameter,cv=5,n_jobs=-1)"
   ]
  },
  {
   "cell_type": "code",
   "execution_count": 37,
   "id": "a30fc642",
   "metadata": {
    "colab": {
     "base_uri": "https://localhost:8080/",
     "height": 158
    },
    "id": "a30fc642",
    "outputId": "3c7bcdb8-bdde-4035-d3d7-f58ca0fb8131"
   },
   "outputs": [],
   "source": [
    "model3.fit(X_train,y_train)\n",
    "y_pred3=model3.predict(X_test)"
   ]
  },
  {
   "cell_type": "code",
   "execution_count": 38,
   "id": "1bdba4d9",
   "metadata": {
    "colab": {
     "base_uri": "https://localhost:8080/"
    },
    "id": "1bdba4d9",
    "outputId": "630adc9f-b8f7-4517-8fad-7ef4d367fe33"
   },
   "outputs": [
    {
     "data": {
      "text/plain": [
       "0.9977777777777778"
      ]
     },
     "execution_count": 38,
     "metadata": {},
     "output_type": "execute_result"
    }
   ],
   "source": [
    "accuracy_score(y_test,y_pred3)"
   ]
  },
  {
   "cell_type": "code",
   "execution_count": 39,
   "id": "51a21ab0",
   "metadata": {
    "colab": {
     "base_uri": "https://localhost:8080/"
    },
    "id": "51a21ab0",
    "outputId": "56f194ae-4b9c-4faa-da31-1f5c893f7e62"
   },
   "outputs": [
    {
     "name": "stdout",
     "output_type": "stream",
     "text": [
      "              precision    recall  f1-score   support\n",
      "\n",
      "      LAYING       1.00      1.00      1.00       148\n",
      "     SITTING       1.00      0.99      1.00       141\n",
      "     WALKING       0.99      1.00      1.00       161\n",
      "\n",
      "    accuracy                           1.00       450\n",
      "   macro avg       1.00      1.00      1.00       450\n",
      "weighted avg       1.00      1.00      1.00       450\n",
      "\n"
     ]
    }
   ],
   "source": [
    "print(classification_report(y_test,y_pred3))"
   ]
  },
  {
   "cell_type": "code",
   "execution_count": 40,
   "id": "ad2ea088",
   "metadata": {
    "colab": {
     "base_uri": "https://localhost:8080/"
    },
    "id": "ad2ea088",
    "outputId": "72989c7c-ddf3-497f-a741-ca8dbeb772a4"
   },
   "outputs": [
    {
     "name": "stdout",
     "output_type": "stream",
     "text": [
      "AdaBoostClassifier(base_estimator=DecisionTreeClassifier(), learning_rate=0.01,\n",
      "                   n_estimators=100, random_state=0)\n"
     ]
    }
   ],
   "source": [
    "print(model3.best_estimator_)"
   ]
  },
  {
   "cell_type": "markdown",
   "id": "7c3e2c76",
   "metadata": {
    "id": "7c3e2c76"
   },
   "source": [
    "### Step6. [Build LogisticRegressionCV classifier]"
   ]
  },
  {
   "cell_type": "code",
   "execution_count": 47,
   "id": "f7c3bb73",
   "metadata": {
    "id": "f7c3bb73"
   },
   "outputs": [],
   "source": [
    "model4 = LogisticRegressionCV(cv=4,Cs=5,penalty='l2',solver='lbfgs' ,max_iter=9000)"
   ]
  },
  {
   "cell_type": "code",
   "execution_count": 48,
   "id": "1f9a0ec8",
   "metadata": {
    "colab": {
     "base_uri": "https://localhost:8080/",
     "height": 75
    },
    "id": "1f9a0ec8",
    "outputId": "f5383bb7-ef05-4e8a-e11d-9c5262758d4f"
   },
   "outputs": [],
   "source": [
    "model4.fit(X_train,y_train)\n",
    "y_pred4=model4.predict(X_test)"
   ]
  },
  {
   "cell_type": "code",
   "execution_count": 49,
   "id": "8ba3f576",
   "metadata": {
    "colab": {
     "base_uri": "https://localhost:8080/"
    },
    "id": "8ba3f576",
    "outputId": "33c417d5-d7a0-46cd-9631-63fdfd0e7222"
   },
   "outputs": [
    {
     "data": {
      "text/plain": [
       "1.0"
      ]
     },
     "execution_count": 49,
     "metadata": {},
     "output_type": "execute_result"
    }
   ],
   "source": [
    "accuracy_score(y_test,y_pred4)"
   ]
  },
  {
   "cell_type": "code",
   "execution_count": 50,
   "id": "4ab8d42d",
   "metadata": {
    "colab": {
     "base_uri": "https://localhost:8080/"
    },
    "id": "4ab8d42d",
    "outputId": "058219c5-0703-4299-f531-9593a5bdf135"
   },
   "outputs": [
    {
     "name": "stdout",
     "output_type": "stream",
     "text": [
      "              precision    recall  f1-score   support\n",
      "\n",
      "      LAYING       1.00      1.00      1.00       148\n",
      "     SITTING       1.00      1.00      1.00       141\n",
      "     WALKING       1.00      1.00      1.00       161\n",
      "\n",
      "    accuracy                           1.00       450\n",
      "   macro avg       1.00      1.00      1.00       450\n",
      "weighted avg       1.00      1.00      1.00       450\n",
      "\n"
     ]
    }
   ],
   "source": [
    "print(classification_report(y_test,y_pred4))"
   ]
  },
  {
   "cell_type": "markdown",
   "id": "5d6995e0",
   "metadata": {
    "id": "5d6995e0"
   },
   "source": [
    "### Step 7 [ Build VotingClassifier]"
   ]
  },
  {
   "cell_type": "code",
   "execution_count": 51,
   "id": "a521df74",
   "metadata": {
    "id": "a521df74"
   },
   "outputs": [],
   "source": [
    "model5=VotingClassifier(estimators=[('lr',model4),('gbc',model1)], voting='hard')"
   ]
  },
  {
   "cell_type": "code",
   "execution_count": 52,
   "id": "09860b0e",
   "metadata": {
    "colab": {
     "base_uri": "https://localhost:8080/",
     "height": 151
    },
    "id": "09860b0e",
    "outputId": "27cf5bd6-ab63-4324-b22a-68fd7a3837cc"
   },
   "outputs": [],
   "source": [
    "model5.fit(X_train,y_train)\n",
    "y_pred5=model5.predict(X_test)"
   ]
  },
  {
   "cell_type": "code",
   "execution_count": 53,
   "id": "4dd87488",
   "metadata": {},
   "outputs": [
    {
     "data": {
      "text/plain": [
       "1.0"
      ]
     },
     "execution_count": 53,
     "metadata": {},
     "output_type": "execute_result"
    }
   ],
   "source": [
    "accuracy_score(y_test,y_pred5)"
   ]
  },
  {
   "cell_type": "code",
   "execution_count": 54,
   "id": "000d1c53",
   "metadata": {
    "colab": {
     "base_uri": "https://localhost:8080/"
    },
    "id": "000d1c53",
    "outputId": "83ff24db-3c02-4451-c1e7-2ad76b704591"
   },
   "outputs": [
    {
     "name": "stdout",
     "output_type": "stream",
     "text": [
      "              precision    recall  f1-score   support\n",
      "\n",
      "      LAYING       1.00      1.00      1.00       148\n",
      "     SITTING       1.00      1.00      1.00       141\n",
      "     WALKING       1.00      1.00      1.00       161\n",
      "\n",
      "    accuracy                           1.00       450\n",
      "   macro avg       1.00      1.00      1.00       450\n",
      "weighted avg       1.00      1.00      1.00       450\n",
      "\n"
     ]
    }
   ],
   "source": [
    "print(classification_report(y_test,y_pred5))"
   ]
  },
  {
   "cell_type": "markdown",
   "id": "e4e008ad",
   "metadata": {
    "id": "e4e008ad"
   },
   "source": [
    "### Step8. [ Interpret your results]"
   ]
  },
  {
   "cell_type": "code",
   "execution_count": 55,
   "id": "3309f719",
   "metadata": {
    "colab": {
     "base_uri": "https://localhost:8080/"
    },
    "id": "3309f719",
    "outputId": "a6731223-1547-4f52-932b-816738143f52"
   },
   "outputs": [
    {
     "name": "stdout",
     "output_type": "stream",
     "text": [
      "GradientBoostingClassifier(n_estimators=50)\n"
     ]
    }
   ],
   "source": [
    "print(model1.best_estimator_)"
   ]
  },
  {
   "cell_type": "code",
   "execution_count": 57,
   "id": "8750fc6d",
   "metadata": {
    "colab": {
     "base_uri": "https://localhost:8080/"
    },
    "id": "8750fc6d",
    "outputId": "de24617a-1613-4a55-e928-9ce6fc6e068f"
   },
   "outputs": [
    {
     "name": "stdout",
     "output_type": "stream",
     "text": [
      "AdaBoostClassifier(base_estimator=DecisionTreeClassifier(), learning_rate=0.01,\n",
      "                   n_estimators=100, random_state=0)\n"
     ]
    }
   ],
   "source": [
    "print(model3.best_estimator_)"
   ]
  },
  {
   "cell_type": "markdown",
   "id": "5bfb7b53",
   "metadata": {
    "id": "5bfb7b53"
   },
   "source": [
    "### GradientBoostingClassifier GradientBoostingClassifier(n_estimators=50)"
   ]
  },
  {
   "cell_type": "code",
   "execution_count": 60,
   "id": "55a4d2ca",
   "metadata": {
    "id": "55a4d2ca"
   },
   "outputs": [],
   "source": [
    "parameter = {'n_estimators': [50, 100, 200, 400], 'learning_rate': [0.1, 0.01]}"
   ]
  },
  {
   "cell_type": "code",
   "execution_count": 61,
   "id": "016be321",
   "metadata": {
    "id": "016be321"
   },
   "outputs": [],
   "source": [
    "modelGC = GridSearchCV(estimator=classifier, param_grid=parameter,cv=5, n_jobs=-1)"
   ]
  },
  {
   "cell_type": "code",
   "execution_count": 62,
   "id": "a0682825",
   "metadata": {
    "colab": {
     "base_uri": "https://localhost:8080/",
     "height": 118
    },
    "id": "a0682825",
    "outputId": "e6893be2-b6ff-4844-e4a5-7e6c3e961e85"
   },
   "outputs": [
    {
     "data": {
      "text/plain": [
       "GridSearchCV(cv=5, estimator=GradientBoostingClassifier(), n_jobs=-1,\n",
       "             param_grid={'learning_rate': [0.1, 0.01],\n",
       "                         'n_estimators': [50, 100, 200, 400]})"
      ]
     },
     "execution_count": 62,
     "metadata": {},
     "output_type": "execute_result"
    }
   ],
   "source": [
    "modelGC.fit(X_train,y_train)"
   ]
  },
  {
   "cell_type": "code",
   "execution_count": 63,
   "id": "f816860d",
   "metadata": {
    "id": "f816860d"
   },
   "outputs": [],
   "source": [
    "y_predGC=model3.predict(X_test)"
   ]
  },
  {
   "cell_type": "code",
   "execution_count": 64,
   "id": "26781772",
   "metadata": {
    "colab": {
     "base_uri": "https://localhost:8080/"
    },
    "id": "26781772",
    "outputId": "ba22bf88-29e3-4cdf-bae8-613efbafaa1a"
   },
   "outputs": [
    {
     "data": {
      "text/plain": [
       "0.9977777777777778"
      ]
     },
     "execution_count": 64,
     "metadata": {},
     "output_type": "execute_result"
    }
   ],
   "source": [
    "accuracy_score(y_test,y_predGC)"
   ]
  },
  {
   "cell_type": "code",
   "execution_count": 65,
   "id": "a6ce1cab",
   "metadata": {
    "colab": {
     "base_uri": "https://localhost:8080/"
    },
    "id": "a6ce1cab",
    "outputId": "2e911c35-c1de-434c-9b59-4a8e06c86e9d"
   },
   "outputs": [
    {
     "name": "stdout",
     "output_type": "stream",
     "text": [
      "              precision    recall  f1-score   support\n",
      "\n",
      "      LAYING       1.00      1.00      1.00       148\n",
      "     SITTING       1.00      0.99      1.00       141\n",
      "     WALKING       0.99      1.00      1.00       161\n",
      "\n",
      "    accuracy                           1.00       450\n",
      "   macro avg       1.00      1.00      1.00       450\n",
      "weighted avg       1.00      1.00      1.00       450\n",
      "\n"
     ]
    }
   ],
   "source": [
    "print(classification_report(y_test,y_predGC))"
   ]
  },
  {
   "cell_type": "code",
   "execution_count": 66,
   "id": "086aa946",
   "metadata": {},
   "outputs": [
    {
     "name": "stdout",
     "output_type": "stream",
     "text": [
      "GradientBoostingClassifier(n_estimators=50)\n"
     ]
    }
   ],
   "source": [
    "print(modelGC.best_estimator_)"
   ]
  },
  {
   "cell_type": "code",
   "execution_count": 67,
   "id": "f2a27e34",
   "metadata": {
    "id": "f2a27e34"
   },
   "outputs": [],
   "source": [
    "modelABC = AdaBoostClassifier(base_estimator=DecisionTreeClassifier(), learning_rate=0.01)"
   ]
  },
  {
   "cell_type": "code",
   "execution_count": 68,
   "id": "6a596b89",
   "metadata": {
    "id": "6a596b89"
   },
   "outputs": [],
   "source": [
    "param_grid = {'n_estimators': [100, 150, 200], 'learning_rate': [0.01, 0.001]}"
   ]
  },
  {
   "cell_type": "code",
   "execution_count": 69,
   "id": "5373ec0e",
   "metadata": {
    "colab": {
     "base_uri": "https://localhost:8080/",
     "height": 158
    },
    "id": "5373ec0e",
    "outputId": "785c46c7-d57c-42d8-e051-89b0782a3d89"
   },
   "outputs": [
    {
     "data": {
      "text/plain": [
       "GridSearchCV(cv=5,\n",
       "             estimator=AdaBoostClassifier(base_estimator=DecisionTreeClassifier(),\n",
       "                                          learning_rate=0.01),\n",
       "             n_jobs=-1,\n",
       "             param_grid={'learning_rate': [0.01, 0.001],\n",
       "                         'n_estimators': [100, 150, 200]})"
      ]
     },
     "execution_count": 69,
     "metadata": {},
     "output_type": "execute_result"
    }
   ],
   "source": [
    "modelGSCV = GridSearchCV(modelABC,param_grid,cv=5,n_jobs=-1)\n",
    "modelGSCV.fit(X_train,y_train)"
   ]
  },
  {
   "cell_type": "code",
   "execution_count": 70,
   "id": "d042f94c",
   "metadata": {
    "id": "d042f94c"
   },
   "outputs": [],
   "source": [
    "y_predGSCV=model3.predict(X_test)"
   ]
  },
  {
   "cell_type": "code",
   "execution_count": 71,
   "id": "404dd281",
   "metadata": {
    "colab": {
     "base_uri": "https://localhost:8080/"
    },
    "id": "404dd281",
    "outputId": "f3281be0-26c3-44ed-d43f-02412cc27ebd"
   },
   "outputs": [
    {
     "data": {
      "text/plain": [
       "0.9977777777777778"
      ]
     },
     "execution_count": 71,
     "metadata": {},
     "output_type": "execute_result"
    }
   ],
   "source": [
    "accuracy_score(y_test,y_predGSCV)"
   ]
  },
  {
   "cell_type": "code",
   "execution_count": 72,
   "id": "fc7c4546",
   "metadata": {
    "colab": {
     "base_uri": "https://localhost:8080/"
    },
    "id": "fc7c4546",
    "outputId": "9b22f6b0-7823-4a45-d7e6-57d868565f48"
   },
   "outputs": [
    {
     "name": "stdout",
     "output_type": "stream",
     "text": [
      "              precision    recall  f1-score   support\n",
      "\n",
      "      LAYING       1.00      1.00      1.00       148\n",
      "     SITTING       1.00      0.99      1.00       141\n",
      "     WALKING       0.99      1.00      1.00       161\n",
      "\n",
      "    accuracy                           1.00       450\n",
      "   macro avg       1.00      1.00      1.00       450\n",
      "weighted avg       1.00      1.00      1.00       450\n",
      "\n"
     ]
    }
   ],
   "source": [
    "print(classification_report(y_test,y_predGSCV))"
   ]
  }
 ],
 "metadata": {
  "colab": {
   "provenance": []
  },
  "kernelspec": {
   "display_name": "Python 3 (ipykernel)",
   "language": "python",
   "name": "python3"
  },
  "language_info": {
   "codemirror_mode": {
    "name": "ipython",
    "version": 3
   },
   "file_extension": ".py",
   "mimetype": "text/x-python",
   "name": "python",
   "nbconvert_exporter": "python",
   "pygments_lexer": "ipython3",
   "version": "3.9.13"
  }
 },
 "nbformat": 4,
 "nbformat_minor": 5
}
